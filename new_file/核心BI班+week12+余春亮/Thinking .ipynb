{
 "cells": [
  {
   "cell_type": "markdown",
   "metadata": {},
   "source": [
    "### 一、GCN/Graph Embedding 都有哪些应用场景"
   ]
  },
  {
   "cell_type": "markdown",
   "metadata": {},
   "source": [
    "主要集中的领域有：网络分析、推荐系统、生物化学、交通预测、计算机视觉、聊天机器人、自然语言处理等"
   ]
  },
  {
   "cell_type": "markdown",
   "metadata": {},
   "source": [
    "![GCN.png](https://i.loli.net/2020/11/14/LMey2CXWEGbOcZ8.png)"
   ]
  },
  {
   "cell_type": "markdown",
   "metadata": {},
   "source": [
    "### 二、在交通流量预测中，如何使用Graph Embedding，请说明简要的思路"
   ]
  },
  {
   "cell_type": "markdown",
   "metadata": {},
   "source": [
    "GCN用于同时预测城市全网每个地铁站的进站流量和出站流量。具体来说，它不再使用网格表示地铁站，而是将城市地铁网络转换成一张图，并使用图卷积神经网络(graph convolutional neural networks, GCNNs)进行预测。  \n",
    "   + 首先，我们应用立体图卷积运算来无缝地捕捉沿地铁网络的不规则时空依赖关系;  \n",
    "   + 其次，构造了一个由GCNNs组成的深层结构来捕捉城市层面上的时空依赖关系;  \n",
    "   + 最后，我们整合三个时间模式(最近的、每天的和每周的)，并融合从这些模式中捕获的时空依赖关系，形成最终的预测值。  \n",
    "GCN模型是一个端到端框架，可以接受原始客流量数据，自动捕获全市地铁网络的有效特征，并输出预测。整个城市的地铁网络可以表示为一个图，其中地铁站为顶点，地铁线路为边。每个站点顶点都有一个由客流历史值组成的特征向量，可以定义一个邻接矩阵来编码站点之间的成对依赖关系。因此，地铁网络不需要用网格来表示地铁站，也不需要用CNN来捕捉特征，而是可以用一个通用的图形来描述，利用GCNN可以有效地捕捉地铁网络层面而不是网格层面上不规则的时空依赖关系。"
   ]
  },
  {
   "cell_type": "markdown",
   "metadata": {},
   "source": [
    "### 三、在文本分类中，如何使用Graph Embedding，请说明简要的思路"
   ]
  },
  {
   "cell_type": "markdown",
   "metadata": {},
   "source": [
    "在传统的文本分类模型种，主要处理排列整齐的矩阵特征，也就是常说的Euclidean Structure，但是在实际的应用场景种，往往会遇到非Euclidean Structure的数据。\n",
    "思路：  \n",
    "+ 1.将我们的文本预料构建拓扑图，该图的节点由文档和词汇组成，对于特征矩阵，我们采用单位矩阵I表示，即每个节点的向量都是one-hot形式表示\n",
    "+ 2.对于文档节点和词汇节点的权重，采用TF-IDF表示，对于词汇节点之间的权重，我们采用互信息表示（PMI),PMI意味着两词汇的相关联性。  \n",
    "+ 3.将文档分类问题转为图节点分类问题，可以很好地捕捉文档在全局单词共现信息和利用好文档有限地标签"
   ]
  },
  {
   "cell_type": "code",
   "execution_count": null,
   "metadata": {},
   "outputs": [],
   "source": []
  }
 ],
 "metadata": {
  "kernelspec": {
   "display_name": "Python 3",
   "language": "python",
   "name": "python3"
  },
  "language_info": {
   "codemirror_mode": {
    "name": "ipython",
    "version": 3
   },
   "file_extension": ".py",
   "mimetype": "text/x-python",
   "name": "python",
   "nbconvert_exporter": "python",
   "pygments_lexer": "ipython3",
   "version": "3.7.6"
  }
 },
 "nbformat": 4,
 "nbformat_minor": 4
}
