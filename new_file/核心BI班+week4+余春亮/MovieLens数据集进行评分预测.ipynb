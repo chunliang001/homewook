{
 "cells": [
  {
   "cell_type": "code",
   "execution_count": 13,
   "metadata": {},
   "outputs": [],
   "source": [
    "from surprise import Dataset\n",
    "from surprise import Reader\n",
    "from surprise import BaselineOnly,KNNBasic,NormalPredictor,SlopeOne,accuracy\n",
    "from surprise.model_selection import cross_validate\n",
    "from surprise.model_selection import KFold\n",
    "import pandas as pd"
   ]
  },
  {
   "cell_type": "code",
   "execution_count": 4,
   "metadata": {},
   "outputs": [],
   "source": [
    "# 数据读取\n",
    "reader=Reader(line_format='user item rating timestamp',sep=',',skip_lines=1)\n",
    "data=Dataset.load_from_file('./ratings.csv',reader=reader)\n",
    "train_set=data.build_full_trainset()"
   ]
  },
  {
   "cell_type": "markdown",
   "metadata": {},
   "source": [
    "## BaselineOnly算法"
   ]
  },
  {
   "cell_type": "markdown",
   "metadata": {},
   "source": [
    "+ BaselineOnly 算法是根据Factor in the neighbors:scalable and accurate collaborative filtering 所得到，算法发现传统CF方法的一些问题：\n",
    " + 不同 item 的评分不同\n",
    " + 不同用户的评分也不同\n",
    " + 评分随着时间一直在变化"
   ]
  },
  {
   "cell_type": "markdown",
   "metadata": {},
   "source": [
    "Baseline model:\n",
    "$$ b_{ui}=u+b_u+b_i $$, 其中u是平均得分，$b_u$是用户的偏置，$b_i$是item的偏置，等价于求下面的极值问题：  \n",
    "$$ minimize \\sum_{(u,i)}{(r_{ui}-u-b_i)^2}+\\lambda [\\sum_u{b_u}^2+\\sum_i{b_i}^2] $$"
   ]
  },
  {
   "cell_type": "markdown",
   "metadata": {},
   "source": [
    "Baseline模型虽然简单， 但其中其实已经包含了用户和item的个性化信息。在面对大规模数据时， 简单算法能够减少大量的计算时间"
   ]
  },
  {
   "cell_type": "code",
   "execution_count": 5,
   "metadata": {},
   "outputs": [
    {
     "name": "stdout",
     "output_type": "stream",
     "text": [
      "Estimating biases using als...\n"
     ]
    },
    {
     "data": {
      "text/plain": [
       "<surprise.prediction_algorithms.baseline_only.BaselineOnly at 0x1a897613fc8>"
      ]
     },
     "execution_count": 5,
     "metadata": {},
     "output_type": "execute_result"
    }
   ],
   "source": [
    "algo=BaselineOnly()\n",
    "algo.fit(train_set)"
   ]
  },
  {
   "cell_type": "code",
   "execution_count": 6,
   "metadata": {},
   "outputs": [
    {
     "name": "stdout",
     "output_type": "stream",
     "text": [
      "user: 196        item: 332        r_ui = 4.00   est = 3.11   {'was_impossible': False}\n"
     ]
    }
   ],
   "source": [
    "uid=str(196)\n",
    "iid=str(332)\n",
    "pred=algo.predict(uid,iid,r_ui=4,verbose=True)"
   ]
  },
  {
   "cell_type": "code",
   "execution_count": 11,
   "metadata": {},
   "outputs": [
    {
     "name": "stdout",
     "output_type": "stream",
     "text": [
      "Estimating biases using als...\n",
      "RMSE: 0.8653\n",
      "Estimating biases using als...\n",
      "RMSE: 0.8649\n",
      "Estimating biases using als...\n",
      "RMSE: 0.8678\n"
     ]
    }
   ],
   "source": [
    "kf=KFold(n_splits=3)\n",
    "for trainset,testset in kf.split(data):\n",
    "    algo.fit(trainset)\n",
    "    predictions=algo.test(testset)\n",
    "    #计算RMSE\n",
    "    accuracy.rmse(predictions,verbose=True)"
   ]
  },
  {
   "cell_type": "markdown",
   "metadata": {},
   "source": [
    "# slope one 算法思想"
   ]
  },
  {
   "cell_type": "markdown",
   "metadata": {},
   "source": [
    "Slope One算法是基于不同物品之间的评分差的线性算法，预测用户对物品评分的个性化算法。主要两步：\n",
    "+ Step1:计算物品之间的评分差的均值，记为物品间的评分偏差(两物品同时被评分)；\n",
    "+ Step2:根据物品间的评分偏差和用户的历史评分，预测用户对未评分的物品的评分;\n",
    "+ Step3:将预测评分排序，取topN对应的物品推荐给用户。"
   ]
  },
  {
   "cell_type": "code",
   "execution_count": 14,
   "metadata": {},
   "outputs": [
    {
     "name": "stdout",
     "output_type": "stream",
     "text": [
      "user: 196        item: 302        r_ui = 4.00   est = 4.32   {'was_impossible': False}\n"
     ]
    }
   ],
   "source": [
    "# 使用SlopeOne算法\n",
    "algo = SlopeOne()\n",
    "algo.fit(train_set)\n",
    "# 对指定用户和商品进行评分预测\n",
    "uid = str(196) \n",
    "iid = str(302) \n",
    "pred = algo.predict(uid, iid, r_ui=4, verbose=True)"
   ]
  },
  {
   "cell_type": "code",
   "execution_count": 15,
   "metadata": {},
   "outputs": [
    {
     "name": "stdout",
     "output_type": "stream",
     "text": [
      "RMSE: 0.8675\n",
      "RMSE: 0.8678\n",
      "RMSE: 0.8679\n"
     ]
    }
   ],
   "source": [
    "kf=KFold(n_splits=3)\n",
    "for trainset,testset in kf.split(data):\n",
    "    algo.fit(trainset)\n",
    "    predictions=algo.test(testset)\n",
    "    #计算RMSE\n",
    "    accuracy.rmse(predictions,verbose=True)"
   ]
  },
  {
   "cell_type": "code",
   "execution_count": null,
   "metadata": {},
   "outputs": [],
   "source": []
  }
 ],
 "metadata": {
  "kernelspec": {
   "display_name": "Python 3",
   "language": "python",
   "name": "python3"
  },
  "language_info": {
   "codemirror_mode": {
    "name": "ipython",
    "version": 3
   },
   "file_extension": ".py",
   "mimetype": "text/x-python",
   "name": "python",
   "nbconvert_exporter": "python",
   "pygments_lexer": "ipython3",
   "version": "3.7.6"
  }
 },
 "nbformat": 4,
 "nbformat_minor": 4
}
