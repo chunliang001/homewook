{
 "cells": [
  {
   "cell_type": "code",
   "execution_count": 1,
   "metadata": {},
   "outputs": [],
   "source": [
    "import random"
   ]
  },
  {
   "cell_type": "code",
   "execution_count": 2,
   "metadata": {},
   "outputs": [],
   "source": [
    "def getGrammarDict(gram, linesplit = \"\\n\", gramsplit = \"=\"):\n",
    "    #定义字典\n",
    "    result = {}\n",
    "\n",
    "    for line in gram.split(linesplit):\n",
    "        # 去掉首尾空格后，如果为空则退出\n",
    "        if not line.strip():\n",
    "            continue\n",
    "        expr, statement = line.split(gramsplit)\n",
    "        result[expr.strip()] = [i.split() for i in statement.split(\"|\")]\n",
    "    #print(result)\n",
    "    return result"
   ]
  },
  {
   "cell_type": "code",
   "execution_count": 3,
   "metadata": {},
   "outputs": [],
   "source": [
    "# 生成句子\n",
    "def generate(gramdict, target, isEng = False):\n",
    "    if target not in gramdict:\n",
    "        return target\n",
    "    find = random.choice(gramdict[target])\n",
    "    blank = ''\n",
    "    if isEng:\n",
    "        blank = ' '\n",
    "    return blank.join(generate(gramdict, t, isEng) for t in find)\n"
   ]
  },
  {
   "cell_type": "code",
   "execution_count": 4,
   "metadata": {},
   "outputs": [],
   "source": [
    "\n",
    "好想你 = \"\"\"\n",
    "love = if I  earn  money , you may marry me\n",
    "if = 既然 | 如果 | 假设\n",
    "I = 我\n",
    "earn = 拥有 | 得到 | 获得 \n",
    "money =  金钱 | 房子 | 车子\n",
    "you = 你 \n",
    "may = 就答应 | 会\n",
    "marry = 嫁给 | 跟 | 随了\n",
    "me= 我的吧\n",
    "\"\"\"\n",
    "\n",
    "gramdict = getGrammarDict(好想你)"
   ]
  },
  {
   "cell_type": "code",
   "execution_count": 5,
   "metadata": {},
   "outputs": [
    {
     "name": "stdout",
     "output_type": "stream",
     "text": [
      "如果我拥有金钱,你会跟我的吧\n",
      "既然我获得金钱,你会嫁给我的吧\n",
      "假设我获得金钱,你就答应跟我的吧\n",
      "既然我获得房子,你就答应随了我的吧\n",
      "如果我拥有金钱,你会随了我的吧\n",
      "如果我获得房子,你就答应跟我的吧\n",
      "如果我获得车子,你会嫁给我的吧\n",
      "既然我得到车子,你会随了我的吧\n",
      "假设我得到车子,你会跟我的吧\n",
      "既然我拥有车子,你会嫁给我的吧\n"
     ]
    }
   ],
   "source": [
    "for i in range(10):\n",
    "    pre=generate(gramdict,\"love\")\n",
    "    print(pre)"
   ]
  },
  {
   "cell_type": "code",
   "execution_count": null,
   "metadata": {},
   "outputs": [],
   "source": []
  }
 ],
 "metadata": {
  "kernelspec": {
   "display_name": "Python 3",
   "language": "python",
   "name": "python3"
  },
  "language_info": {
   "codemirror_mode": {
    "name": "ipython",
    "version": 3
   },
   "file_extension": ".py",
   "mimetype": "text/x-python",
   "name": "python",
   "nbconvert_exporter": "python",
   "pygments_lexer": "ipython3",
   "version": "3.7.6"
  }
 },
 "nbformat": 4,
 "nbformat_minor": 4
}
